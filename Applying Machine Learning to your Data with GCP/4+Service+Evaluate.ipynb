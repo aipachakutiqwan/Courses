{
 "cells": [
  {
   "cell_type": "markdown",
   "metadata": {},
   "source": [
    "# Evaluating a Model with Dataflow and BigQuery"
   ]
  },
  {
   "cell_type": "markdown",
   "metadata": {},
   "source": [
    "This notebook is the third in the set of steps to run machine learning on the cloud. In this step, we will use the model training in the previous notebook and continue with evaluating the resulting model.\n",
    "\n",
    "Evaluation is accomplished by first running batch prediction over one or more evaluation datasets. This is done via Cloud Dataflow, and then analyzing the results using BigQuery. Doing evaluation using these services allow you to scale to large evaluation datasets."
   ]
  },
  {
   "cell_type": "markdown",
   "metadata": {},
   "source": [
    "## Workspace Setup\n",
    "\n",
    "The first step is to setup the workspace that we will use within this notebook - the python libraries, and the Google Cloud Storage bucket that will be used to contain the inputs and outputs produced over the course of the steps."
   ]
  },
  {
   "cell_type": "code",
   "execution_count": 3,
   "metadata": {
    "collapsed": false
   },
   "outputs": [
    {
     "data": {
      "text/html": [
       "\n",
       "          <script src=\"/static/components/requirejs/require.js\"></script>\n",
       "          <script>\n",
       "            requirejs.config({\n",
       "              paths: {\n",
       "                base: '/static/base',\n",
       "              },\n",
       "            });\n",
       "          </script>\n",
       "          "
      ],
      "text/plain": [
       "<IPython.core.display.HTML object>"
      ]
     },
     "metadata": {},
     "output_type": "display_data"
    }
   ],
   "source": [
    "import google.datalab as datalab\n",
    "import google.datalab.ml as ml\n",
    "import mltoolbox.regression.dnn as regression\n",
    "import os"
   ]
  },
  {
   "cell_type": "markdown",
   "metadata": {},
   "source": [
    "The storage bucket was created earlier. We'll re-declare it here, so we can use it."
   ]
  },
  {
   "cell_type": "code",
   "execution_count": 4,
   "metadata": {
    "collapsed": false
   },
   "outputs": [
    {
     "data": {
      "text/html": [
       "\n",
       "          <script src=\"/static/components/requirejs/require.js\"></script>\n",
       "          <script>\n",
       "            requirejs.config({\n",
       "              paths: {\n",
       "                base: '/static/base',\n",
       "              },\n",
       "            });\n",
       "          </script>\n",
       "          "
      ],
      "text/plain": [
       "<IPython.core.display.HTML object>"
      ]
     },
     "metadata": {},
     "output_type": "display_data"
    }
   ],
   "source": [
    "storage_bucket = 'gs://' + datalab.Context.default().project_id + '-datalab-workspace/'\n",
    "storage_region = 'us-central1'\n",
    "\n",
    "workspace_path = os.path.join(storage_bucket, 'census')\n",
    "training_path = os.path.join(workspace_path, 'training')"
   ]
  },
  {
   "cell_type": "markdown",
   "metadata": {},
   "source": [
    "### Model\n",
    "\n",
    "Lets take a quick look at the model that was previously produced as a result of the training job."
   ]
  },
  {
   "cell_type": "code",
   "execution_count": 5,
   "metadata": {
    "collapsed": false
   },
   "outputs": [
    {
     "data": {
      "text/html": [
       "\n",
       "          <script src=\"/static/components/requirejs/require.js\"></script>\n",
       "          <script>\n",
       "            requirejs.config({\n",
       "              paths: {\n",
       "                base: '/static/base',\n",
       "              },\n",
       "            });\n",
       "          </script>\n",
       "          "
      ],
      "text/plain": [
       "<IPython.core.display.HTML object>"
      ]
     },
     "metadata": {},
     "output_type": "display_data"
    },
    {
     "name": "stdout",
     "output_type": "stream",
     "text": [
      "gs://data-insights-evanjones-datalab-workspace/census/training/model/:\n",
      "gs://data-insights-evanjones-datalab-workspace/census/training/model/\n",
      "gs://data-insights-evanjones-datalab-workspace/census/training/model/saved_model.pb\n",
      "\n",
      "gs://data-insights-evanjones-datalab-workspace/census/training/model/assets.extra/:\n",
      "gs://data-insights-evanjones-datalab-workspace/census/training/model/assets.extra/\n",
      "gs://data-insights-evanjones-datalab-workspace/census/training/model/assets.extra/features.json\n",
      "gs://data-insights-evanjones-datalab-workspace/census/training/model/assets.extra/schema.json\n",
      "\n",
      "gs://data-insights-evanjones-datalab-workspace/census/training/model/variables/:\n",
      "gs://data-insights-evanjones-datalab-workspace/census/training/model/variables/\n",
      "gs://data-insights-evanjones-datalab-workspace/census/training/model/variables/variables.data-00000-of-00001\n",
      "gs://data-insights-evanjones-datalab-workspace/census/training/model/variables/variables.index\n"
     ]
    }
   ],
   "source": [
    "!gsutil ls -r {training_path}/model"
   ]
  },
  {
   "cell_type": "markdown",
   "metadata": {},
   "source": [
    "## Batch Prediction\n",
    "\n",
    "We'll submit a batch prediction Dataflow job, to use this model by loading it into TensorFlow, and running it in `evaluation` mode (the mode that expects the input data to contain a value for target). The other mode, `prediction`, is used to predict over data where the target column is missing.\n",
    "\n",
    "**NOTE**: Batch prediction can take a few minutes to launch while compute resources are provisioned. In the case of large datasets in real-world problems, this overhead is a much smaller part of the overall job lifetime."
   ]
  },
  {
   "cell_type": "code",
   "execution_count": 6,
   "metadata": {
    "collapsed": false
   },
   "outputs": [
    {
     "data": {
      "text/html": [
       "\n",
       "          <script src=\"/static/components/requirejs/require.js\"></script>\n",
       "          <script>\n",
       "            requirejs.config({\n",
       "              paths: {\n",
       "                base: '/static/base',\n",
       "              },\n",
       "            });\n",
       "          </script>\n",
       "          "
      ],
      "text/plain": [
       "<IPython.core.display.HTML object>"
      ]
     },
     "metadata": {},
     "output_type": "display_data"
    },
    {
     "name": "stdout",
     "output_type": "stream",
     "text": [
      "Building package and uploading to gs://data-insights-evanjones-datalab-workspace/census/evaluation/staging/trainer.tar.gz\n"
     ]
    },
    {
     "name": "stderr",
     "output_type": "stream",
     "text": [
      "/usr/local/lib/python2.7/dist-packages/oauth2client/contrib/gce.py:99: UserWarning: You have requested explicit scopes to be used with a GCE service account.\n",
      "Using this argument will have no effect on the actual scopes for tokens\n",
      "requested. These scopes are set at VM instance creation time and\n",
      "can't be overridden in the request.\n",
      "\n",
      "  warnings.warn(_SCOPES_WARNING)\n",
      "/usr/local/lib/python2.7/dist-packages/apache_beam/io/gcp/gcsio.py:113: DeprecationWarning: object() takes no parameters\n",
      "  super(GcsIO, cls).__new__(cls, storage_client))\n",
      "/usr/local/lib/python2.7/dist-packages/scipy/ndimage/measurements.py:36: RuntimeWarning: numpy.dtype size changed, may indicate binary incompatibility. Expected 96, got 88\n",
      "  from . import _ni_label\n",
      "/usr/local/lib/python2.7/dist-packages/scipy/ndimage/measurements.py:36: RuntimeWarning: numpy.ufunc size changed, may indicate binary incompatibility. Expected 192, got 176\n",
      "  from . import _ni_label\n"
     ]
    },
    {
     "name": "stdout",
     "output_type": "stream",
     "text": [
      "INFO:tensorflow:Restoring parameters from gs://data-insights-evanjones-datalab-workspace/census/training/evaluation_model/variables/variables\n"
     ]
    },
    {
     "name": "stderr",
     "output_type": "stream",
     "text": [
      "INFO:tensorflow:Restoring parameters from gs://data-insights-evanjones-datalab-workspace/census/training/evaluation_model/variables/variables\n"
     ]
    },
    {
     "name": "stdout",
     "output_type": "stream",
     "text": [
      "Dataflow Job submitted, see Job mltoolbox-batch-prediction-20171231214820 at https://console.developers.google.com/dataflow?project=data-insights-evanjones\n"
     ]
    },
    {
     "name": "stderr",
     "output_type": "stream",
     "text": [
      "/usr/local/lib/python2.7/dist-packages/apache_beam/coders/typecoders.py:135: UserWarning: Using fallback coder for typehint: Any.\n",
      "  warnings.warn('Using fallback coder for typehint: %r.' % typehint)\n",
      "WARNING:root:The .whl package \"%s\" is provided in --extra_package. This functionality is not officially supported. Since wheel packages are binary distributions, this package must be binary-compatible with the worker environment (e.g. Python 2.7 running on an x64 Linux host).\n",
      "WARNING:root:The .whl package \"%s\" is provided in --extra_package. This functionality is not officially supported. Since wheel packages are binary distributions, this package must be binary-compatible with the worker environment (e.g. Python 2.7 running on an x64 Linux host).\n"
     ]
    },
    {
     "name": "stdout",
     "output_type": "stream",
     "text": [
      "Batch predict: completed\n"
     ]
    }
   ],
   "source": [
    "eval_data_path = os.path.join(workspace_path, 'data/eval.csv')\n",
    "evaluation_path = os.path.join(workspace_path, 'evaluation')\n",
    "\n",
    "regression.batch_predict(training_dir=training_path, prediction_input_file=eval_data_path,\n",
    "                         output_dir=evaluation_path,\n",
    "                         mode='evaluation',\n",
    "                         output_format='csv',\n",
    "                         cloud=True)"
   ]
  },
  {
   "cell_type": "markdown",
   "metadata": {},
   "source": [
    "Once prediction is done, the individual predictions will be written out into Cloud Storage."
   ]
  },
  {
   "cell_type": "code",
   "execution_count": 7,
   "metadata": {
    "collapsed": false
   },
   "outputs": [
    {
     "data": {
      "text/html": [
       "\n",
       "          <script src=\"/static/components/requirejs/require.js\"></script>\n",
       "          <script>\n",
       "            requirejs.config({\n",
       "              paths: {\n",
       "                base: '/static/base',\n",
       "              },\n",
       "            });\n",
       "          </script>\n",
       "          "
      ],
      "text/plain": [
       "<IPython.core.display.HTML object>"
      ]
     },
     "metadata": {},
     "output_type": "display_data"
    },
    {
     "name": "stdout",
     "output_type": "stream",
     "text": [
      "gs://data-insights-evanjones-datalab-workspace/census/evaluation/csv_schema.json\r\n",
      "gs://data-insights-evanjones-datalab-workspace/census/evaluation/errors-00000-of-00001.txt\r\n",
      "gs://data-insights-evanjones-datalab-workspace/census/evaluation/predictions-00000-of-00003.csv\r\n",
      "gs://data-insights-evanjones-datalab-workspace/census/evaluation/predictions-00001-of-00003.csv\r\n",
      "gs://data-insights-evanjones-datalab-workspace/census/evaluation/predictions-00002-of-00003.csv\r\n",
      "gs://data-insights-evanjones-datalab-workspace/census/evaluation/staging/\r\n",
      "gs://data-insights-evanjones-datalab-workspace/census/evaluation/tmp/\r\n"
     ]
    }
   ],
   "source": [
    "!gsutil ls {evaluation_path}"
   ]
  },
  {
   "cell_type": "code",
   "execution_count": 8,
   "metadata": {
    "collapsed": false
   },
   "outputs": [
    {
     "data": {
      "text/html": [
       "\n",
       "          <script src=\"/static/components/requirejs/require.js\"></script>\n",
       "          <script>\n",
       "            requirejs.config({\n",
       "              paths: {\n",
       "                base: '/static/base',\n",
       "              },\n",
       "            });\n",
       "          </script>\n",
       "          "
      ],
      "text/plain": [
       "<IPython.core.display.HTML object>"
      ]
     },
     "metadata": {},
     "output_type": "display_data"
    },
    {
     "name": "stdout",
     "output_type": "stream",
     "text": [
      "[\n",
      "  {\n",
      "    \"type\": \"STRING\", \n",
      "    \"mode\": \"NULLABLE\", \n",
      "    \"name\": \"SERIALNO\"\n",
      "  }, \n",
      "  {\n",
      "    \"type\": \"FLOAT\", \n",
      "    \"mode\": \"NULLABLE\", \n",
      "    \"name\": \"predicted\"\n",
      "  }, \n",
      "  {\n",
      "    \"type\": \"FLOAT\", \n",
      "    \"mode\": \"NULLABLE\", \n",
      "    \"name\": \"target\"\n",
      "  }\n",
      "]\n",
      "1438,17.628030777,45.0\n",
      "2892,17.628030777,16.0\n",
      "3761,17.628030777,15.0\n",
      "4767,17.628030777,58.0\n",
      "8625,17.628030777,22.3999996185\n"
     ]
    }
   ],
   "source": [
    "!gsutil cat {evaluation_path}/csv_schema.json\n",
    "!gsutil -q -m cp -r {evaluation_path}/ /tmp\n",
    "!head -n 5 /tmp/evaluation/predictions-00000*"
   ]
  },
  {
   "cell_type": "markdown",
   "metadata": {},
   "source": [
    "## Analysis with BigQuery\n",
    "\n",
    "We're going to use BigQuery to do evaluation. BigQuery can directly work against CSV data in Cloud Storage. However, if you have very large evaluation results, or you're going to be running multiple queries, it is advisable to first load the results into a BigQuery table."
   ]
  },
  {
   "cell_type": "code",
   "execution_count": 9,
   "metadata": {
    "collapsed": false
   },
   "outputs": [
    {
     "data": {
      "text/html": [
       "\n",
       "          <script src=\"/static/components/requirejs/require.js\"></script>\n",
       "          <script>\n",
       "            requirejs.config({\n",
       "              paths: {\n",
       "                base: '/static/base',\n",
       "              },\n",
       "            });\n",
       "          </script>\n",
       "          "
      ],
      "text/plain": [
       "<IPython.core.display.HTML object>"
      ]
     },
     "metadata": {},
     "output_type": "display_data"
    }
   ],
   "source": [
    "%bq datasource --name eval_results --paths {storage_bucket}census/evaluation/predictions*\n",
    "{\n",
    "  \"schema\": [\n",
    "    {\n",
    "      \"type\": \"STRING\", \n",
    "      \"mode\": \"nullable\", \n",
    "      \"name\": \"SERIALNO\"\n",
    "    }, \n",
    "    {\n",
    "      \"type\": \"FLOAT\", \n",
    "      \"mode\": \"nullable\", \n",
    "      \"name\": \"predicted_target\"\n",
    "    }, \n",
    "    {\n",
    "      \"type\": \"FLOAT\", \n",
    "      \"mode\": \"nullable\", \n",
    "      \"name\": \"target_from_input\"\n",
    "    }\n",
    "  ]\n",
    "}"
   ]
  },
  {
   "cell_type": "code",
   "execution_count": 10,
   "metadata": {
    "collapsed": false
   },
   "outputs": [
    {
     "data": {
      "text/html": [
       "\n",
       "          <script src=\"/static/components/requirejs/require.js\"></script>\n",
       "          <script>\n",
       "            requirejs.config({\n",
       "              paths: {\n",
       "                base: '/static/base',\n",
       "              },\n",
       "            });\n",
       "          </script>\n",
       "          "
      ],
      "text/plain": [
       "<IPython.core.display.HTML object>"
      ]
     },
     "metadata": {},
     "output_type": "display_data"
    },
    {
     "data": {
      "text/html": [
       "\n",
       "    <div class=\"bqtv\" id=\"1_151475737129\"><table><tr><th>rmse</th></tr><tr><td>30.7954509872</td></tr></table></div>\n",
       "    <br />(rows: 1, time: 1.0s,    16KB processed, job: job_M-FIA2-4_yfwsqesH8EMpSCqUu78)<br />\n",
       "    <script>\n",
       "\n",
       "      require.config({\n",
       "        paths: {\n",
       "          d3: '//cdnjs.cloudflare.com/ajax/libs/d3/3.4.13/d3',\n",
       "          plotly: 'https://cdn.plot.ly/plotly-1.5.1.min.js?noext',\n",
       "          jquery: '//ajax.googleapis.com/ajax/libs/jquery/2.0.0/jquery.min'\n",
       "        },\n",
       "        map: {\n",
       "          '*': {\n",
       "            datalab: 'nbextensions/gcpdatalab'\n",
       "          }\n",
       "        },\n",
       "        shim: {\n",
       "          plotly: {\n",
       "            deps: ['d3', 'jquery'],\n",
       "            exports: 'plotly'\n",
       "          }\n",
       "        }\n",
       "      });\n",
       "\n",
       "      require(['datalab/charting', 'datalab/element!1_151475737129', 'base/js/events',\n",
       "          'datalab/style!/nbextensions/gcpdatalab/charting.css'],\n",
       "        function(charts, dom, events) {\n",
       "          charts.render('gcharts', dom, events, 'table', [], {\"rows\": [{\"c\": [{\"v\": 30.795450987224626}]}], \"cols\": [{\"type\": \"number\", \"id\": \"rmse\", \"label\": \"rmse\"}]},\n",
       "            {\n",
       "              pageSize: 25,\n",
       "              cssClassNames:  {\n",
       "                tableRow: 'gchart-table-row',\n",
       "                headerRow: 'gchart-table-headerrow',\n",
       "                oddTableRow: 'gchart-table-oddrow',\n",
       "                selectedTableRow: 'gchart-table-selectedrow',\n",
       "                hoverTableRow: 'gchart-table-hoverrow',\n",
       "                tableCell: 'gchart-table-cell',\n",
       "                headerCell: 'gchart-table-headercell',\n",
       "                rowNumberCell: 'gchart-table-rownumcell'\n",
       "              }\n",
       "            },\n",
       "            {source_index: 0, fields: 'rmse'},\n",
       "            0,\n",
       "            1);\n",
       "        }\n",
       "      );\n",
       "    </script>\n",
       "  "
      ],
      "text/plain": [
       "QueryResultsTable job_M-FIA2-4_yfwsqesH8EMpSCqUu78"
      ]
     },
     "execution_count": 10,
     "metadata": {},
     "output_type": "execute_result"
    }
   ],
   "source": [
    "%bq query --datasource eval_results\n",
    "SELECT SQRT(AVG(error)) AS rmse FROM (\n",
    "  SELECT POW(target_from_input - predicted_target, 2) AS error\n",
    "  FROM eval_results\n",
    ")"
   ]
  },
  {
   "cell_type": "code",
   "execution_count": 11,
   "metadata": {
    "collapsed": false
   },
   "outputs": [
    {
     "data": {
      "text/html": [
       "\n",
       "          <script src=\"/static/components/requirejs/require.js\"></script>\n",
       "          <script>\n",
       "            requirejs.config({\n",
       "              paths: {\n",
       "                base: '/static/base',\n",
       "              },\n",
       "            });\n",
       "          </script>\n",
       "          "
      ],
      "text/plain": [
       "<IPython.core.display.HTML object>"
      ]
     },
     "metadata": {},
     "output_type": "display_data"
    }
   ],
   "source": [
    "%bq query --name distribution_query --datasource eval_results\n",
    "WITH errors AS (\n",
    "  SELECT predicted_target - target_from_input AS error\n",
    "  FROM eval_results\n",
    "),\n",
    "error_stats AS (\n",
    "  SELECT MIN(error) AS min_error, MAX(error) - MIN(error) AS error_range FROM errors\n",
    "),\n",
    "quantized_errors AS (\n",
    "  SELECT error, FLOOR((error - min_error) * 20 / error_range) error_bin FROM errors CROSS JOIN error_stats\n",
    ")\n",
    "SELECT AVG(error) AS error, COUNT(error_bin) AS instances\n",
    "FROM quantized_errors\n",
    "GROUP BY error_bin\n",
    "ORDER BY error_bin"
   ]
  },
  {
   "cell_type": "code",
   "execution_count": 12,
   "metadata": {
    "collapsed": false
   },
   "outputs": [
    {
     "data": {
      "text/html": [
       "\n",
       "          <script src=\"/static/components/requirejs/require.js\"></script>\n",
       "          <script>\n",
       "            requirejs.config({\n",
       "              paths: {\n",
       "                base: '/static/base',\n",
       "              },\n",
       "            });\n",
       "          </script>\n",
       "          "
      ],
      "text/plain": [
       "<IPython.core.display.HTML object>"
      ]
     },
     "metadata": {},
     "output_type": "display_data"
    },
    {
     "data": {
      "text/html": [
       "\n",
       "    <div class=\"bqgc-container\">\n",
       "      \n",
       "      <div class=\"bqgc \" id=\"1_151475737158\">\n",
       "      </div>\n",
       "    </div>\n",
       "    <script>\n",
       "\n",
       "      require.config({\n",
       "        paths: {\n",
       "          d3: '//cdnjs.cloudflare.com/ajax/libs/d3/3.4.13/d3',\n",
       "          plotly: 'https://cdn.plot.ly/plotly-1.5.1.min.js?noext',\n",
       "          jquery: '//ajax.googleapis.com/ajax/libs/jquery/2.0.0/jquery.min'\n",
       "        },\n",
       "        map: {\n",
       "          '*': {\n",
       "            datalab: 'nbextensions/gcpdatalab'\n",
       "          }\n",
       "        },\n",
       "        shim: {\n",
       "          plotly: {\n",
       "            deps: ['d3', 'jquery'],\n",
       "            exports: 'plotly'\n",
       "          }\n",
       "        }\n",
       "      });\n",
       "\n",
       "      require(['datalab/charting',\n",
       "               'datalab/element!1_151475737158',\n",
       "               'base/js/events',\n",
       "               'datalab/style!/nbextensions/gcpdatalab/charting.css'\n",
       "              ],\n",
       "        function(charts, dom, events) {\n",
       "          charts.render(\n",
       "              'gcharts',\n",
       "              dom,\n",
       "              events,\n",
       "              'columns',\n",
       "              [],\n",
       "              {\"rows\": [{\"c\": [{\"v\": -127.37196922300001}, {\"v\": 1}]}, {\"c\": [{\"v\": -111.12196922300001}, {\"v\": 4}]}, {\"c\": [{\"v\": -102.37196922300001}, {\"v\": 3}]}, {\"c\": [{\"v\": -98.37196922300001}, {\"v\": 1}]}, {\"c\": [{\"v\": -90.70530255633334}, {\"v\": 3}]}, {\"c\": [{\"v\": -83.20530255633334}, {\"v\": 6}]}, {\"c\": [{\"v\": -78.87196922300001}, {\"v\": 2}]}, {\"c\": [{\"v\": -70.45530255633334}, {\"v\": 12}]}, {\"c\": [{\"v\": -63.22911208014286}, {\"v\": 7}]}, {\"c\": [{\"v\": -56.496969223}, {\"v\": 16}]}, {\"c\": [{\"v\": -49.871969223}, {\"v\": 18}]}, {\"c\": [{\"v\": -42.651969222999995}, {\"v\": 25}]}, {\"c\": [{\"v\": -36.43863588966667}, {\"v\": 30}]}, {\"c\": [{\"v\": -29.537048551749205}, {\"v\": 63}]}, {\"c\": [{\"v\": -22.710064448984124}, {\"v\": 63}]}, {\"c\": [{\"v\": -16.42680789576129}, {\"v\": 62}]}, {\"c\": [{\"v\": -9.97398946740505}, {\"v\": 99}]}, {\"c\": [{\"v\": -2.600204490190589}, {\"v\": 85}]}, {\"c\": [{\"v\": 4.531645257810844}, {\"v\": 83}]}, {\"c\": [{\"v\": 7.628030776999999}, {\"v\": 22}]}], \"cols\": [{\"type\": \"number\", \"id\": \"error\", \"label\": \"error\"}, {\"type\": \"number\", \"id\": \"instances\", \"label\": \"instances\"}]},\n",
       "              {},\n",
       "              {\"fields\": \"error,instances\", \"source_index\": 0, \"name\": 0},\n",
       "              0,\n",
       "              20);\n",
       "          }\n",
       "        );\n",
       "    </script>\n",
       "  "
      ],
      "text/plain": [
       "<IPython.core.display.HTML object>"
      ]
     },
     "execution_count": 12,
     "metadata": {},
     "output_type": "execute_result"
    },
    {
     "data": {
      "image/png": "[encoded data removed]"
     },
     "metadata": {
      "source_id": "1_151475737158"
     },
     "output_type": "display_data"
    }
   ],
   "source": [
    "%chart columns --data distribution_query --fields error,instances"
   ]
  },
  {
   "cell_type": "markdown",
   "metadata": {},
   "source": [
    "As shown with the queries and chart, SQL and BigQuery can be used to analyze large evaluation results to understand how the model performs. In this case, the error as well as distribution of errors."
   ]
  },
  {
   "cell_type": "markdown",
   "metadata": {},
   "source": [
    "## Next Steps\n",
    "\n",
    "We're almost done. Now that we have a model, our next step will be to deploy it and use it for predictions. This will be covered in the [next notebook](./5%2BService%2BPredict.ipynb)."
   ]
  }
 ],
 "metadata": {
  "kernelspec": {
   "display_name": "Python 2",
   "language": "python",
   "name": "python2"
  },
  "language_info": {
   "codemirror_mode": {
    "name": "ipython",
    "version": 2
   },
   "file_extension": ".py",
   "mimetype": "text/x-python",
   "name": "python",
   "nbconvert_exporter": "python",
   "pygments_lexer": "ipython2",
   "version": "2.7.12"
  }
 },
 "nbformat": 4,
 "nbformat_minor": 2
}
