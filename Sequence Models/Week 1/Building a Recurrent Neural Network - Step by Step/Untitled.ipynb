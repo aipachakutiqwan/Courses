{
 "cells": [
  {
   "cell_type": "code",
   "execution_count": 1,
   "metadata": {
    "collapsed": true
   },
   "outputs": [],
   "source": [
    "import numpy as np"
   ]
  },
  {
   "cell_type": "code",
   "execution_count": 7,
   "metadata": {},
   "outputs": [
    {
     "data": {
      "text/plain": [
       "array([[-1.31544314, -0.91733909,  1.14250487,  1.0092986 , -0.25222619],\n",
       "       [-0.57932473, -0.50093477, -0.27618346, -2.21162789, -0.9622946 ],\n",
       "       [-1.30689002, -0.71553259,  1.09169129,  1.03247812, -0.42143907],\n",
       "       [ 0.56282644, -0.79596091,  0.35368662, -0.26505591,  1.18606474],\n",
       "       [ 0.84067506, -0.44814617,  1.97194156, -0.30813995, -0.92808829]])"
      ]
     },
     "execution_count": 7,
     "metadata": {},
     "output_type": "execute_result"
    }
   ],
   "source": [
    "Waa = np.random.randn(5,5)\n",
    "Waa"
   ]
  },
  {
   "cell_type": "code",
   "execution_count": 8,
   "metadata": {},
   "outputs": [
    {
     "data": {
      "text/plain": [
       "array([[  1.27025683e-01,   1.41216150e-01,   7.16687156e-01,\n",
       "          2.37606315e-01,   3.43414055e-01,   5.72891759e-01,\n",
       "         -3.74752372e-01,  -1.50226158e+00,  -9.32181113e-01,\n",
       "         -8.70315922e-01],\n",
       "       [ -5.41486763e-01,  -4.40053810e-03,   9.65813517e-01,\n",
       "         -7.48846483e-01,   1.14111374e+00,  -1.79092893e-03,\n",
       "          3.04548952e-01,   3.96631926e-01,  -5.07112723e-01,\n",
       "         -1.31858570e+00],\n",
       "       [ -4.23528011e-01,   3.46714128e-02,  -1.41552507e+00,\n",
       "         -6.28032810e-01,  -4.37043602e-01,   1.17261595e-01,\n",
       "         -9.54357392e-01,  -1.93916427e+00,   2.22988830e+00,\n",
       "          1.95487876e-01],\n",
       "       [ -6.54260567e-01,   3.51666157e-01,  -9.35630207e-01,\n",
       "         -6.20599045e-01,  -2.71895130e-01,   1.32770182e+00,\n",
       "          3.34679158e-01,  -1.60235675e+00,   1.28545328e+00,\n",
       "          3.35219178e-01],\n",
       "       [  6.95101150e-01,  -3.42632043e-02,   6.30579874e-01,\n",
       "          1.35629782e+00,  -2.11471125e-01,   2.15464932e-01,\n",
       "          1.47030658e-01,  -2.96113987e-01,  -6.64194820e-01,\n",
       "          1.59486591e+00]])"
      ]
     },
     "execution_count": 8,
     "metadata": {},
     "output_type": "execute_result"
    }
   ],
   "source": [
    "a_prev = np.random.randn(5,10)\n",
    "a_prev"
   ]
  },
  {
   "cell_type": "code",
   "execution_count": 18,
   "metadata": {},
   "outputs": [
    {
     "data": {
      "text/plain": [
       "array([[-0.98991789,  0.22146547, -4.549363  , -1.31160557, -2.21893916,\n",
       "         0.66770999, -0.57606096, -2.14577962,  5.70401734,  2.51385646],\n",
       "       [ 1.09272069, -0.83396468,  0.9544027 ,  0.47830038,  0.15496079,\n",
       "        -3.50710206, -0.55355068,  5.03594143, -2.02558554, -1.1653805 ],\n",
       "       [-1.20937151,  0.2339727 , -4.40478744, -1.67267103, -1.93402875,\n",
       "         0.66060615, -0.48643377, -1.96708542,  5.62258355,  1.96827831],\n",
       "       [ 1.35055012, -0.03860392,  0.12987128,  2.28080731, -1.04832692,\n",
       "         0.26897814, -0.70519385, -1.77356872, -0.46082768,  2.4316097 ],\n",
       "       [-0.92923136,  0.11249587, -2.91858608, -1.77063438, -0.80446494,\n",
       "         0.10456297, -2.57304988, -4.49601149,  4.06114056, -1.33871388]])"
      ]
     },
     "execution_count": 18,
     "metadata": {},
     "output_type": "execute_result"
    }
   ],
   "source": [
    "np.dot(Waa,a_prev)"
   ]
  },
  {
   "cell_type": "code",
   "execution_count": 14,
   "metadata": {},
   "outputs": [
    {
     "data": {
      "text/plain": [
       "array([[ 0.,  1.,  2.],\n",
       "       [ 3.,  4.,  5.],\n",
       "       [ 6.,  7.,  8.]])"
      ]
     },
     "execution_count": 14,
     "metadata": {},
     "output_type": "execute_result"
    }
   ],
   "source": [
    "x1 = np.arange(9.0).reshape((3, 3))\n",
    "x1"
   ]
  },
  {
   "cell_type": "code",
   "execution_count": 15,
   "metadata": {},
   "outputs": [
    {
     "data": {
      "text/plain": [
       "array([ 0.,  1.,  2.])"
      ]
     },
     "execution_count": 15,
     "metadata": {},
     "output_type": "execute_result"
    }
   ],
   "source": [
    "x2 = np.arange(3.0)\n",
    "x2"
   ]
  },
  {
   "cell_type": "code",
   "execution_count": 13,
   "metadata": {},
   "outputs": [
    {
     "data": {
      "text/plain": [
       "array([[  0.,   1.,   4.],\n",
       "       [  0.,   4.,  10.],\n",
       "       [  0.,   7.,  16.]])"
      ]
     },
     "execution_count": 13,
     "metadata": {},
     "output_type": "execute_result"
    }
   ],
   "source": [
    "np.multiply(x1, x2)"
   ]
  },
  {
   "cell_type": "code",
   "execution_count": null,
   "metadata": {
    "collapsed": true
   },
   "outputs": [],
   "source": []
  }
 ],
 "metadata": {
  "kernelspec": {
   "display_name": "Python 3",
   "language": "python",
   "name": "python3"
  },
  "language_info": {
   "codemirror_mode": {
    "name": "ipython",
    "version": 3
   },
   "file_extension": ".py",
   "mimetype": "text/x-python",
   "name": "python",
   "nbconvert_exporter": "python",
   "pygments_lexer": "ipython3",
   "version": "3.6.0"
  }
 },
 "nbformat": 4,
 "nbformat_minor": 2
}
